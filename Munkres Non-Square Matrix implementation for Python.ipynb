{
 "cells": [
  {
   "cell_type": "markdown",
   "metadata": {},
   "source": [
    "# Munkres implementation for Python\n",
    "\n",
    "Let C be an n by n matrix representing the costs of each of n workers to perform any of n jobs. The assignment problem is to assign jobs to workers in a way that minimizes the total cost. Since each worker can perform only one job and each job can be assigned to only one worker the assignments represent an independent set of the matrix C.\n",
    "\n",
    "One way to generate the optimal set is to create all permutations of the indexes necessary to traverse the matrix so that no row and column are used more than once.\n",
    "\n",
    "\n",
    "http://software.clapper.org/munkres/\n",
    "\n",
    "22-11-2020"
   ]
  },
  {
   "cell_type": "markdown",
   "metadata": {},
   "source": [
    "## Non-square Cost Matrices\n",
    "\n",
    "The Munkres algorithm assumes that the cost matrix is square. However, it’s possible to use a rectangular matrix if you first pad it with 0 values to make it square. This module automatically pads rectangular cost matrices to make them square.\n",
    "\n",
    "Notes:\n",
    "\n",
    "The module operates on a copy of the caller’s matrix, so any padding will not be seen by the caller.\n",
    "The cost matrix must be rectangular or square. An irregular matrix will not work."
   ]
  },
  {
   "cell_type": "code",
   "execution_count": 22,
   "metadata": {},
   "outputs": [],
   "source": [
    "# pip install Munkres\n",
    "from munkres import Munkres , print_matrix\n",
    "import numpy as np"
   ]
  },
  {
   "cell_type": "code",
   "execution_count": 23,
   "metadata": {},
   "outputs": [],
   "source": [
    "# Matrix to optimize\n",
    "matrix = [[5, 9, 1],\n",
    "          [10, 3, 2]]\n"
   ]
  },
  {
   "cell_type": "code",
   "execution_count": 33,
   "metadata": {},
   "outputs": [
    {
     "name": "stdout",
     "output_type": "stream",
     "text": [
      "Original Matrix - rows: 2   Columns: 3\n"
     ]
    }
   ],
   "source": [
    "# Transform to numpy array\n",
    "arr = np.array(matrix)\n",
    "\n",
    "# Number rows and columns\n",
    "l, c = arr.shape\n",
    "print('Original Matrix - rows:',l ,'  Columns:',c)   "
   ]
  },
  {
   "cell_type": "code",
   "execution_count": 34,
   "metadata": {},
   "outputs": [
    {
     "name": "stdout",
     "output_type": "stream",
     "text": [
      "['Agent_1', 'Agent_2']\n"
     ]
    }
   ],
   "source": [
    "# create a list with Agents\n",
    "i =0\n",
    "agents = []\n",
    "while i < l:\n",
    "    name = 'Agent_'+str(i+1)\n",
    "    agents.insert(i,name)\n",
    "    i = i + 1\n",
    "print(agents)    "
   ]
  },
  {
   "cell_type": "code",
   "execution_count": 35,
   "metadata": {},
   "outputs": [
    {
     "name": "stdout",
     "output_type": "stream",
     "text": [
      "Max Value: 10   Min Value: 1\n"
     ]
    }
   ],
   "source": [
    "# Obtain Max an min value from matrix\n",
    "max_value = max([max(l) for l in matrix])\n",
    "min_value = min([min(l) for l in matrix])\n",
    "print('Max Value:', max_value,'  Min Value:', min_value)"
   ]
  },
  {
   "cell_type": "code",
   "execution_count": 37,
   "metadata": {},
   "outputs": [
    {
     "data": {
      "text/plain": [
       "array([[ 5.,  9.,  1.],\n",
       "       [10.,  3.,  2.],\n",
       "       [10., 10., 10.]])"
      ]
     },
     "execution_count": 37,
     "metadata": {},
     "output_type": "execute_result"
    }
   ],
   "source": [
    "# Transform Non Square to Square\n",
    "nonsquare = arr\n",
    "square = []\n",
    "if ( l != c ):\n",
    "    width = max(l, c)\n",
    "    square = np.zeros((width, width))\n",
    "    square = np.array(square)              # Transform Matrix in numpy array\n",
    "        \n",
    "    np.place(square, square == 0 , max_value) # Replace Virtual lines with Max Matrix\n",
    "    \n",
    "    square[:l, :c] = nonsquare              # concatenate both array square   and non square\n",
    "else:\n",
    "    square = arr\n",
    "\n",
    "square"
   ]
  },
  {
   "cell_type": "code",
   "execution_count": 41,
   "metadata": {},
   "outputs": [
    {
     "data": {
      "text/plain": [
       "array([[ 5.,  9.,  1.],\n",
       "       [10.,  3.,  2.],\n",
       "       [ 5.,  9.,  1.]])"
      ]
     },
     "execution_count": 41,
     "metadata": {},
     "output_type": "execute_result"
    }
   ],
   "source": [
    "# Assumes the agent price to the tasks, for each dummy agent\n",
    "i = 0\n",
    "n_l = l    \n",
    "while i < (c - l):\n",
    "    square[n_l] = nonsquare[i]\n",
    "    n_l = n_l + 1 \n",
    "    i = i + 1\n",
    "square"
   ]
  },
  {
   "cell_type": "code",
   "execution_count": 42,
   "metadata": {},
   "outputs": [
    {
     "data": {
      "text/plain": [
       "['Agent_1', 'Agent_2', 'Agent_1']"
      ]
     },
     "execution_count": 42,
     "metadata": {},
     "output_type": "execute_result"
    }
   ],
   "source": [
    "# Insert agents to new lines\n",
    "i = 0\n",
    "n_agent = l\n",
    "while i < (c - l):\n",
    "    n_agent = n_agent + 1 \n",
    "    name = agents[i]\n",
    "    agents.insert(n_agent, name)\n",
    "    i = i + 1\n",
    "agents"
   ]
  },
  {
   "cell_type": "code",
   "execution_count": 43,
   "metadata": {},
   "outputs": [
    {
     "data": {
      "text/plain": [
       "[[5.0, 9.0, 1.0], [10.0, 3.0, 2.0], [5.0, 9.0, 1.0]]"
      ]
     },
     "execution_count": 43,
     "metadata": {},
     "output_type": "execute_result"
    }
   ],
   "source": [
    "# Transform numpy array to a list\n",
    "square_list = np.array(square).tolist()\n",
    "square_list"
   ]
  },
  {
   "cell_type": "code",
   "execution_count": 44,
   "metadata": {},
   "outputs": [],
   "source": [
    "m = Munkres()"
   ]
  },
  {
   "cell_type": "code",
   "execution_count": 45,
   "metadata": {},
   "outputs": [
    {
     "name": "stdout",
     "output_type": "stream",
     "text": [
      "Lowest cost through this matrix:\n",
      "[ 5.0,  9.0,  1.0]\n",
      "[10.0,  3.0,  2.0]\n",
      "[ 5.0,  9.0,  1.0]\n",
      "--------------\n",
      "Assigned Tasks Square\n",
      "Agent_1 {0}  Assigned task: {2} -> Cost: {1.0}\n",
      "Agent_2 {1}  Assigned task: {1} -> Cost: {3.0}\n",
      "Agent_1 {2}  Assigned task: {0} -> Cost: {5.0}\n",
      "total cost Square: 9.0\n"
     ]
    }
   ],
   "source": [
    "indexes = m.compute(square_list)\n",
    "\n",
    "print_matrix(square_list, msg='Lowest cost through this matrix:')\n",
    "total = 0\n",
    "print('--------------')\n",
    "print('Assigned Tasks Square')\n",
    "for row, column in indexes:\n",
    "    value = square_list[row][column]\n",
    "    total += value\n",
    "    print(agents[row], {row}, ' Assigned task:', {column}, '-> Cost:', {value})\n",
    "print(f'total cost Square: {total}')"
   ]
  },
  {
   "cell_type": "code",
   "execution_count": 46,
   "metadata": {},
   "outputs": [
    {
     "data": {
      "text/plain": [
       "[(0, 2), (1, 1), (2, 0)]"
      ]
     },
     "execution_count": 46,
     "metadata": {},
     "output_type": "execute_result"
    }
   ],
   "source": [
    "indexes"
   ]
  },
  {
   "cell_type": "code",
   "execution_count": 47,
   "metadata": {},
   "outputs": [
    {
     "name": "stdout",
     "output_type": "stream",
     "text": [
      "------------------------------------------------------\n",
      "Lowest cost through this matrix:\n",
      "[ 5,  9,  1]\n",
      "[10,  3,  2]\n",
      "--------------\n",
      "Assigned Tasks Non Square\n",
      "Agent_1 {0}  Assigned task: {2} -> Cost: {1}\n",
      "Agent_2 {1}  Assigned task: {1} -> Cost: {3}\n",
      "total cost Non Square: 4\n"
     ]
    }
   ],
   "source": [
    "print('------------------------------------------------------')\n",
    "indexes = m.compute(matrix)\n",
    "\n",
    "print_matrix(matrix, msg='Lowest cost through this matrix:')\n",
    "total = 0\n",
    "print('--------------')\n",
    "print('Assigned Tasks Non Square')\n",
    "for row, column in indexes:\n",
    "    value = matrix[row][column]\n",
    "    total += value\n",
    "    print(agents[row], {row}, ' Assigned task:', {column}, '-> Cost:', {value})\n",
    "print(f'total cost Non Square: {total}')"
   ]
  },
  {
   "cell_type": "raw",
   "metadata": {},
   "source": [
    "indexes"
   ]
  },
  {
   "cell_type": "markdown",
   "metadata": {},
   "source": []
  }
 ],
 "metadata": {
  "kernelspec": {
   "display_name": "Python 3",
   "language": "python",
   "name": "python3"
  },
  "language_info": {
   "codemirror_mode": {
    "name": "ipython",
    "version": 3
   },
   "file_extension": ".py",
   "mimetype": "text/x-python",
   "name": "python",
   "nbconvert_exporter": "python",
   "pygments_lexer": "ipython3",
   "version": "3.7.6"
  }
 },
 "nbformat": 4,
 "nbformat_minor": 4
}
