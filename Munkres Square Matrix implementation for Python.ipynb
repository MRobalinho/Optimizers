{
 "cells": [
  {
   "cell_type": "markdown",
   "metadata": {},
   "source": [
    "# Munkres implementation for Python\n",
    "\n",
    "Let C be an n by n matrix representing the costs of each of n workers to perform any of n jobs. The assignment problem is to assign jobs to workers in a way that minimizes the total cost. Since each worker can perform only one job and each job can be assigned to only one worker the assignments represent an independent set of the matrix C.\n",
    "\n",
    "One way to generate the optimal set is to create all permutations of the indexes necessary to traverse the matrix so that no row and column are used more than once.\n",
    "\n",
    "\n",
    "http://software.clapper.org/munkres/\n",
    "\n",
    "22-11-2020"
   ]
  },
  {
   "cell_type": "markdown",
   "metadata": {},
   "source": [
    "## Square Cost Matrices\n",
    "\n",
    "The Munkres algorithm assumes that the cost matrix is square."
   ]
  },
  {
   "cell_type": "code",
   "execution_count": 4,
   "metadata": {},
   "outputs": [],
   "source": [
    "# pip install Munkres\n",
    "from munkres import Munkres , print_matrix\n"
   ]
  },
  {
   "cell_type": "code",
   "execution_count": 20,
   "metadata": {},
   "outputs": [],
   "source": [
    "# Matrix to optimize\n",
    "\n",
    "matrix = [[5, 9, 1],\n",
    "          [10, 3, 2],\n",
    "          [8, 7, 4]]\n"
   ]
  },
  {
   "cell_type": "code",
   "execution_count": 21,
   "metadata": {},
   "outputs": [],
   "source": [
    "m = Munkres()"
   ]
  },
  {
   "cell_type": "code",
   "execution_count": 22,
   "metadata": {},
   "outputs": [
    {
     "name": "stdout",
     "output_type": "stream",
     "text": [
      "Lowest cost through this matrix:\n",
      "[ 5,  9,  1]\n",
      "[10,  3,  2]\n",
      "[ 8,  7,  4]\n",
      "--------------\n",
      "Assigned Tasks\n",
      "Agent: {0}  Assigned task: {2} -> Cost: {1}\n",
      "Agent: {1}  Assigned task: {1} -> Cost: {3}\n",
      "Agent: {2}  Assigned task: {0} -> Cost: {8}\n",
      "total cost: 12\n"
     ]
    }
   ],
   "source": [
    "indexes = m.compute(matrix)\n",
    "\n",
    "print_matrix(matrix, msg='Lowest cost through this matrix:')\n",
    "total = 0\n",
    "print('--------------')\n",
    "print('Assigned Tasks')\n",
    "for row, column in indexes:\n",
    "    value = matrix[row][column]\n",
    "    total += value\n",
    "    print('Agent:', {row}, ' Assigned task:', {column}, '-> Cost:', {value})\n",
    "print(f'total cost: {total}')"
   ]
  },
  {
   "cell_type": "code",
   "execution_count": null,
   "metadata": {},
   "outputs": [],
   "source": []
  }
 ],
 "metadata": {
  "kernelspec": {
   "display_name": "Python 3",
   "language": "python",
   "name": "python3"
  },
  "language_info": {
   "codemirror_mode": {
    "name": "ipython",
    "version": 3
   },
   "file_extension": ".py",
   "mimetype": "text/x-python",
   "name": "python",
   "nbconvert_exporter": "python",
   "pygments_lexer": "ipython3",
   "version": "3.7.6"
  }
 },
 "nbformat": 4,
 "nbformat_minor": 4
}
