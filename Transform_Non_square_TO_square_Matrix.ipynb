{
 "cells": [
  {
   "cell_type": "markdown",
   "metadata": {},
   "source": [
    "## Transform NON SQUARE to SQUARE MATRIX"
   ]
  },
  {
   "cell_type": "code",
   "execution_count": 51,
   "metadata": {},
   "outputs": [
    {
     "name": "stdout",
     "output_type": "stream",
     "text": [
      "rows: 3   Columns: 5\n"
     ]
    }
   ],
   "source": [
    "import numpy as np\n",
    "\n",
    "nonsquare = np.random.random(size=(3, 5))\n",
    "\n",
    "l, c = nonsquare.shape\n",
    "print('rows:',l ,'  Columns:',c)\n",
    "width = max(l, c)\n",
    "square = np.zeros((width, width))\n",
    "square[:l, :c] = nonsquare"
   ]
  },
  {
   "cell_type": "code",
   "execution_count": 52,
   "metadata": {},
   "outputs": [
    {
     "name": "stdout",
     "output_type": "stream",
     "text": [
      "[0.02178452 0.08821754 0.02249603] 5\n"
     ]
    }
   ],
   "source": [
    "min_rows = np.min(nonsquare, axis=1)\n",
    "print(min_rows, width)"
   ]
  },
  {
   "cell_type": "code",
   "execution_count": 53,
   "metadata": {},
   "outputs": [
    {
     "name": "stdout",
     "output_type": "stream",
     "text": [
      "[0.02178452 0.08821754 0.02249603] 5\n"
     ]
    }
   ],
   "source": [
    "min_cols = np.min(nonsquare, axis=0)\n",
    "print(min_rows, width)"
   ]
  },
  {
   "cell_type": "code",
   "execution_count": 54,
   "metadata": {},
   "outputs": [
    {
     "data": {
      "text/plain": [
       "array([[0.02178452, 0.35785148, 0.23184412, 0.63562851, 0.02386369],\n",
       "       [0.08821754, 0.94100779, 0.34836852, 0.57795861, 0.29520108],\n",
       "       [0.02249603, 0.34157811, 0.41260547, 0.91899155, 0.79113968]])"
      ]
     },
     "execution_count": 54,
     "metadata": {},
     "output_type": "execute_result"
    }
   ],
   "source": [
    "nonsquare"
   ]
  },
  {
   "cell_type": "code",
   "execution_count": 55,
   "metadata": {},
   "outputs": [
    {
     "data": {
      "text/plain": [
       "array([[0.02178452, 0.35785148, 0.23184412, 0.63562851, 0.02386369],\n",
       "       [0.08821754, 0.94100779, 0.34836852, 0.57795861, 0.29520108],\n",
       "       [0.02249603, 0.34157811, 0.41260547, 0.91899155, 0.79113968],\n",
       "       [0.        , 0.        , 0.        , 0.        , 0.        ],\n",
       "       [0.        , 0.        , 0.        , 0.        , 0.        ]])"
      ]
     },
     "execution_count": 55,
     "metadata": {},
     "output_type": "execute_result"
    }
   ],
   "source": [
    "square"
   ]
  },
  {
   "cell_type": "code",
   "execution_count": null,
   "metadata": {},
   "outputs": [],
   "source": []
  }
 ],
 "metadata": {
  "kernelspec": {
   "display_name": "Python 3",
   "language": "python",
   "name": "python3"
  },
  "language_info": {
   "codemirror_mode": {
    "name": "ipython",
    "version": 3
   },
   "file_extension": ".py",
   "mimetype": "text/x-python",
   "name": "python",
   "nbconvert_exporter": "python",
   "pygments_lexer": "ipython3",
   "version": "3.7.6"
  }
 },
 "nbformat": 4,
 "nbformat_minor": 4
}
