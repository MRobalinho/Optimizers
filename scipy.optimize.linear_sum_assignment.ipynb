{
 "cells": [
  {
   "cell_type": "markdown",
   "metadata": {},
   "source": [
    "# scipy.optimize.linear_sum_assignment\n",
    "\n",
    "https://docs.scipy.org/doc/scipy/reference/optimize.html\n",
    "\n",
    "https://docs.scipy.org/doc/scipy-0.18.1/reference/generated/scipy.optimize.linear_sum_assignment.html\n"
   ]
  },
  {
   "cell_type": "markdown",
   "metadata": {},
   "source": [
    "The linear sum assignment problem is also known as minimum weight matching in bipartite graphs. A problem instance is described by a matrix C, where each C[i,j] is the cost of matching vertex i of the first partite set (a “worker”) and vertex j of the second set (a “job”). The goal is to find a complete assignment of workers to jobs of minimal cost.\n",
    "\n",
    "Formally, let X be a boolean matrix where X[i,j]=1 iff row i is assigned to column j. Then the optimal assignment has cost\n",
    "\n",
    "min ∑i ∑jCi,jXi,j\n",
    "s.t. each row is assignment to at most one column, and each column to at most one row.\n",
    "\n",
    "This function can also solve a generalization of the classic assignment problem where the cost matrix is rectangular. If it has more rows than columns, then not every row needs to be assigned to a column, and vice versa.\n",
    "\n",
    "The method used is the Hungarian algorithm, also known as the Munkres or Kuhn-Munkres algorithm.\n",
    "\n",
    "Parameters:\t\n",
    "cost_matrix : array\n",
    "\n",
    "The cost matrix of the bipartite graph.\n",
    "\n",
    "Returns:\t\n",
    "row_ind, col_ind : array\n",
    "\n",
    "An array of row indices and one of corresponding column indices giving the optimal assignment. The cost of the assignment can be computed as cost_matrix[row_ind, col_ind].sum(). The row indices will be sorted; in the case of a square cost matrix they will be equal to numpy.arange(cost_matrix.shape[0])."
   ]
  },
  {
   "cell_type": "markdown",
   "metadata": {},
   "source": [
    "https://brc2.com/the-algorithm-workshop/"
   ]
  },
  {
   "cell_type": "code",
   "execution_count": 3,
   "metadata": {},
   "outputs": [],
   "source": [
    "from scipy.optimize import linear_sum_assignment\n",
    "import numpy as np"
   ]
  },
  {
   "cell_type": "code",
   "execution_count": 51,
   "metadata": {},
   "outputs": [
    {
     "name": "stdout",
     "output_type": "stream",
     "text": [
      "Number of workers =  2\n",
      "Number of tasks   =  3\n"
     ]
    }
   ],
   "source": [
    "num_workers = 2\n",
    "num_tasks = 3\n",
    "\n",
    "print('Number of workers = ', num_workers)\n",
    "print('Number of tasks   = ', num_tasks)"
   ]
  },
  {
   "cell_type": "code",
   "execution_count": 52,
   "metadata": {},
   "outputs": [],
   "source": [
    "# Generating random matrix\n",
    "cost = np.random.rand(num_workers,num_tasks) * 100"
   ]
  },
  {
   "cell_type": "code",
   "execution_count": 53,
   "metadata": {},
   "outputs": [
    {
     "data": {
      "text/plain": [
       "array([[24.44862029, 88.2170812 , 92.85598825],\n",
       "       [67.73814816, 69.9679885 , 24.20333676]])"
      ]
     },
     "execution_count": 53,
     "metadata": {},
     "output_type": "execute_result"
    }
   ],
   "source": [
    "#cost = np.array([[4, 3, 1], [2, 0, 5], [3, 2, 2]])\n",
    "cost"
   ]
  },
  {
   "cell_type": "code",
   "execution_count": 64,
   "metadata": {},
   "outputs": [
    {
     "name": "stdout",
     "output_type": "stream",
     "text": [
      "Workers: [0 1]   Tasks: [0 2]\n"
     ]
    }
   ],
   "source": [
    "row_ind, col_ind = linear_sum_assignment(cost)\n",
    "print('Workers:',row_ind,'  Tasks:',col_ind)\n"
   ]
  },
  {
   "cell_type": "code",
   "execution_count": 58,
   "metadata": {},
   "outputs": [],
   "source": [
    "min_cost = cost[row_ind, col_ind].sum()"
   ]
  },
  {
   "cell_type": "code",
   "execution_count": 59,
   "metadata": {},
   "outputs": [
    {
     "name": "stdout",
     "output_type": "stream",
     "text": [
      "Minimum Cost = 48.6519570542836\n"
     ]
    }
   ],
   "source": [
    "print('Minimum Cost =', min_cost)"
   ]
  },
  {
   "cell_type": "code",
   "execution_count": 70,
   "metadata": {},
   "outputs": [
    {
     "data": {
      "text/plain": [
       "array([[0, 0],\n",
       "       [1, 2]], dtype=int64)"
      ]
     },
     "execution_count": 70,
     "metadata": {},
     "output_type": "execute_result"
    }
   ],
   "source": [
    "# Matrix assignement\n",
    "matx_assig = np.stack((row_ind, col_ind), axis=1)\n",
    "matx_assig"
   ]
  },
  {
   "cell_type": "code",
   "execution_count": 73,
   "metadata": {},
   "outputs": [
    {
     "name": "stdout",
     "output_type": "stream",
     "text": [
      "Workers assigned: 2    Tasks assigned: 2\n"
     ]
    }
   ],
   "source": [
    "r_workers = len(matx_assig)\n",
    "r_tasks = len(matx_assig[0])\n",
    "print('Workers assigned:',r_workers, '   Tasks assigned:',r_tasks)"
   ]
  },
  {
   "cell_type": "code",
   "execution_count": 91,
   "metadata": {},
   "outputs": [
    {
     "name": "stdout",
     "output_type": "stream",
     "text": [
      "Worker: 0  Assigned task: 0  Cost: 24.448620\n",
      "Worker: 1  Assigned task: 2  Cost: 24.203337\n"
     ]
    }
   ],
   "source": [
    "for row in matx_assig:\n",
    "    i = row[0]\n",
    "    j = row[1]\n",
    "   # print('Worker:', row[0], ' Assigned task:',row[1],'  Cost:', cost[i][j])\n",
    "    print('Worker: %d  Assigned task: %d  Cost: %f' % ( i,j, cost[i][j]))"
   ]
  },
  {
   "cell_type": "code",
   "execution_count": null,
   "metadata": {},
   "outputs": [],
   "source": []
  }
 ],
 "metadata": {
  "kernelspec": {
   "display_name": "Python 3",
   "language": "python",
   "name": "python3"
  },
  "language_info": {
   "codemirror_mode": {
    "name": "ipython",
    "version": 3
   },
   "file_extension": ".py",
   "mimetype": "text/x-python",
   "name": "python",
   "nbconvert_exporter": "python",
   "pygments_lexer": "ipython3",
   "version": "3.7.6"
  }
 },
 "nbformat": 4,
 "nbformat_minor": 4
}
