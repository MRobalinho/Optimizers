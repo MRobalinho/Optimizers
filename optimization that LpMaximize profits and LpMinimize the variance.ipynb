{
 "cells": [
  {
   "cell_type": "markdown",
   "metadata": {},
   "source": [
    "## How do I go about creating an optimization that LpMaximize profits and LpMinimize the variance?\n",
    "\n",
    "https://stackoverflow.com/questions/60921824/python-pulp-how-do-i-create-lpmaximize-and-lpminimize-problem\n",
    "\n",
    "20-11-2020"
   ]
  },
  {
   "cell_type": "code",
   "execution_count": 1,
   "metadata": {},
   "outputs": [],
   "source": [
    "from pulp import *"
   ]
  },
  {
   "cell_type": "code",
   "execution_count": 72,
   "metadata": {},
   "outputs": [],
   "source": [
    "# PROBLEM DATA:\n",
    "costs =   [15, 25, 35, 40, 45, 55]\n",
    "profits = [1.7, 2, 2.4, 3.2, 5.6, 6.2]\n",
    "var =     [24, 12, 24, 32, 52, 62]\n",
    "city = [\"PORTO\",\"COIMBRA\",\"LISBOA\",\"FARO\",\"BRAGANÇA\",\"GUARDA\"] \n",
    "\n",
    "max_cost = 150\n",
    "max_to_pick = 4"
   ]
  },
  {
   "cell_type": "code",
   "execution_count": 73,
   "metadata": {},
   "outputs": [],
   "source": [
    "# DECLARE PROBLEM OBJECT:\n",
    "prob = LpProblem(\"Mixed_Problem\", LpMaximize)"
   ]
  },
  {
   "cell_type": "code",
   "execution_count": 74,
   "metadata": {},
   "outputs": [],
   "source": [
    "# VARIABLES\n",
    "n = len(costs)\n",
    "N = range(n)\n",
    "x = LpVariable.dicts('x', N, cat=\"Binary\")"
   ]
  },
  {
   "cell_type": "code",
   "execution_count": 75,
   "metadata": {},
   "outputs": [],
   "source": [
    "# OBJECTIVE\n",
    "prob += lpSum([profits[i]*x[i] for i in N])"
   ]
  },
  {
   "cell_type": "code",
   "execution_count": 76,
   "metadata": {},
   "outputs": [],
   "source": [
    "# CONSTRAINTS\n",
    "prob += lpSum([x[i] for i in N]) == max_to_pick        #Limit number \n",
    "prob += lpSum([x[i]*costs[i] for i in N]) <= max_cost  #max cost"
   ]
  },
  {
   "cell_type": "code",
   "execution_count": 77,
   "metadata": {},
   "outputs": [
    {
     "name": "stdout",
     "output_type": "stream",
     "text": [
      "BRAGANÇA\n",
      "PORTO\n",
      "LISBOA\n",
      "GUARDA\n",
      "COIMBRA\n",
      "FARO\n"
     ]
    }
   ],
   "source": [
    "# NEW CONSTRAINT\n",
    "for c in set(city):\n",
    "    print(c)\n",
    "    index_list = [i for i in N if city[i] == c] \n",
    "    prob += lpSum([x[i] for i in index_list]) <= 1\n",
    "\n",
    "# SOLVE & PRINT RESULTS\n",
    "prob.solve()\n",
    "\n",
    "obj = value(prob.objective)\n"
   ]
  },
  {
   "cell_type": "code",
   "execution_count": 78,
   "metadata": {},
   "outputs": [
    {
     "data": {
      "text/plain": [
       "{0: x_0, 1: x_1, 2: x_2, 3: x_3, 4: x_4, 5: x_5}"
      ]
     },
     "execution_count": 78,
     "metadata": {},
     "output_type": "execute_result"
    }
   ],
   "source": [
    "x"
   ]
  },
  {
   "cell_type": "code",
   "execution_count": 79,
   "metadata": {},
   "outputs": [
    {
     "name": "stdout",
     "output_type": "stream",
     "text": [
      "Status : Optimal\n",
      "objective = 15.899999999999999\n",
      "Profits =15.899999999999999\n",
      "Variance = 162.0\n",
      "Cost = 150.0\n"
     ]
    }
   ],
   "source": [
    "print('Status :', LpStatus[prob.status])\n",
    "print('objective = ' + str(value(prob.objective)))\n",
    "print('Profits ='+str(sum([x[i].varValue*profits[i] for i in N])))\n",
    "print('Variance = ' + str(sum([x[i].varValue*var[i] for i in N])))\n",
    "print('Cost = ' + str(sum([x[i].varValue*costs[i] for i in N])))"
   ]
  },
  {
   "cell_type": "code",
   "execution_count": 80,
   "metadata": {},
   "outputs": [
    {
     "name": "stdout",
     "output_type": "stream",
     "text": [
      "x_0 = 1.0\n",
      "x_1 = 0.0\n",
      "x_2 = 1.0\n",
      "x_3 = 0.0\n",
      "x_4 = 1.0\n",
      "x_5 = 1.0\n",
      "Route City:  > PORTO  > LISBOA  > BRAGANÇA  > GUARDA\n"
     ]
    }
   ],
   "source": [
    "i = 0\n",
    "route_city = 'Route City:'\n",
    "for v in prob.variables():\n",
    "    print (v.name, \"=\", v.varValue)\n",
    "    if v.varValue > 0:  # Selected city\n",
    "        route_city = route_city + '  > ' +str(city[i]) \n",
    "    i= i + 1\n",
    "print(route_city)"
   ]
  },
  {
   "cell_type": "code",
   "execution_count": 81,
   "metadata": {},
   "outputs": [],
   "source": [
    "# MODIFY PROBLEM FOR 2ND PROBLEM\n",
    "\n",
    "prob.sense = LpMinimize # change sense to LpMinimize\n",
    "prob += lpSum([var[v]*x[v] for v in N]) # Reset the objective\n",
    "prob += lpSum([profits[i]*x[i] for i in N]) == obj #Add constraint fixes profits "
   ]
  },
  {
   "cell_type": "code",
   "execution_count": 82,
   "metadata": {},
   "outputs": [
    {
     "name": "stdout",
     "output_type": "stream",
     "text": [
      "Status : Optimal\n",
      "objective = 162.0\n",
      "Profits =15.899999999999999\n",
      "Variance = 162.0\n",
      "Cost = 150.0\n"
     ]
    }
   ],
   "source": [
    "# SOLVE 2ND PROBLEM\n",
    "prob.solve()\n",
    "\n",
    "print('Status :', LpStatus[prob.status])\n",
    "print('objective = ' + str(value(prob.objective)))\n",
    "print('Profits ='+str(sum([x[i].varValue*profits[i] for i in N])))\n",
    "print('Variance = ' + str(sum([x[i].varValue*var[i] for i in N])))\n",
    "print('Cost = ' + str(sum([x[i].varValue*costs[i] for i in N])))"
   ]
  },
  {
   "cell_type": "code",
   "execution_count": 83,
   "metadata": {},
   "outputs": [
    {
     "name": "stdout",
     "output_type": "stream",
     "text": [
      "x_0 = 1.0\n",
      "x_1 = 0.0\n",
      "x_2 = 1.0\n",
      "x_3 = 0.0\n",
      "x_4 = 1.0\n",
      "x_5 = 1.0\n",
      "Route City:  > PORTO  > LISBOA  > BRAGANÇA  > GUARDA\n"
     ]
    }
   ],
   "source": [
    "i = 0\n",
    "route_city = 'Route City:'\n",
    "\n",
    "for v in prob.variables():\n",
    "    print (v.name, \"=\", v.varValue)\n",
    "    if v.varValue > 0:  # Selected city\n",
    "        route_city = route_city + '  > ' +str(city[i]) \n",
    "    i= i + 1\n",
    "print(route_city)"
   ]
  },
  {
   "cell_type": "code",
   "execution_count": null,
   "metadata": {},
   "outputs": [],
   "source": []
  },
  {
   "cell_type": "code",
   "execution_count": null,
   "metadata": {},
   "outputs": [],
   "source": []
  },
  {
   "cell_type": "code",
   "execution_count": null,
   "metadata": {},
   "outputs": [],
   "source": []
  }
 ],
 "metadata": {
  "kernelspec": {
   "display_name": "Python 3",
   "language": "python",
   "name": "python3"
  },
  "language_info": {
   "codemirror_mode": {
    "name": "ipython",
    "version": 3
   },
   "file_extension": ".py",
   "mimetype": "text/x-python",
   "name": "python",
   "nbconvert_exporter": "python",
   "pygments_lexer": "ipython3",
   "version": "3.7.6"
  }
 },
 "nbformat": 4,
 "nbformat_minor": 4
}
